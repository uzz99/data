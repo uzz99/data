{
 "cells": [
  {
   "cell_type": "code",
   "execution_count": null,
   "id": "9d687a02-49a5-4dbf-a06a-f834a5dd2d0d",
   "metadata": {},
   "outputs": [],
   "source": [
    "import pandas as pd\n",
    "df =pd.read_csv('https://raw.githubusercontent.com/Datamanim/datarepo/main/happy2/happiness.csv',encoding='utf-8')\n",
    "df.head()"
   ]
  },
  {
   "cell_type": "code",
   "execution_count": null,
   "id": "209aabb8-a964-4d63-9d25-35716ffb09fd",
   "metadata": {},
   "outputs": [],
   "source": [
    "df[df['행복랭킹'] == 10].점수.mean()"
   ]
  },
  {
   "cell_type": "code",
   "execution_count": null,
   "id": "eff4a955-5edc-4bba-bba4-5c6d2c0424d0",
   "metadata": {},
   "outputs": [],
   "source": [
    "df[df['행복랭킹'] <= 50][['년도','점수']].groupby('년도').mean()"
   ]
  },
  {
   "cell_type": "code",
   "execution_count": null,
   "id": "14e1ab70-dc0f-42fa-8457-5651d9b57110",
   "metadata": {},
   "outputs": [],
   "source": [
    "df[df['년도'] == 2018][['점수','부패에 대한인식']].corr().iloc[0,1]"
   ]
  },
  {
   "cell_type": "code",
   "execution_count": null,
   "id": "5db02b80-006f-4d01-a6d8-e5af80237393",
   "metadata": {},
   "outputs": [],
   "source": [
    "len(df[['행복랭킹','나라명']]) - len(df[['행복랭킹','나라명']].drop_duplicates())"
   ]
  },
  {
   "cell_type": "code",
   "execution_count": null,
   "id": "83f74a3a-db3a-4a71-b998-b341e161812a",
   "metadata": {},
   "outputs": [],
   "source": [
    "df2019 = df[df['년도'] == 2019]\n",
    "df2019.corr().unstack().to_frame() #1d로 펼치기 때문에 자기자신과의 상관계수를 계산하지 않는다"
   ]
  },
  {
   "cell_type": "code",
   "execution_count": null,
   "id": "eaae0936-c585-4ebf-800e-650e07ab4883",
   "metadata": {},
   "outputs": [],
   "source": []
  }
 ],
 "metadata": {
  "kernelspec": {
   "display_name": "Python 3 (ipykernel)",
   "language": "python",
   "name": "python3"
  },
  "language_info": {
   "codemirror_mode": {
    "name": "ipython",
    "version": 3
   },
   "file_extension": ".py",
   "mimetype": "text/x-python",
   "name": "python",
   "nbconvert_exporter": "python",
   "pygments_lexer": "ipython3",
   "version": "3.13.0"
  }
 },
 "nbformat": 4,
 "nbformat_minor": 5
}
