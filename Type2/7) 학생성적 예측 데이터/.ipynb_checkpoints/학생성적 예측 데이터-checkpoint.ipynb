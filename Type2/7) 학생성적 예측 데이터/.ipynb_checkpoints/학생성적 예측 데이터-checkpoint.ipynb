{
 "cells": [
  {
   "cell_type": "markdown",
   "id": "76fd2336-1eff-423f-861e-482d5fe4988f",
   "metadata": {},
   "source": [
    "데이터 설명 : 학생성적 예측 (종속변수 :G3)"
   ]
  },
  {
   "cell_type": "code",
   "execution_count": null,
   "id": "70030dd0-7e80-4c2e-b892-094749dd60ca",
   "metadata": {},
   "outputs": [],
   "source": []
  },
  {
   "cell_type": "code",
   "execution_count": null,
   "id": "7a529d09-bd8b-4e5f-a627-2d8bb5f7a7a4",
   "metadata": {},
   "outputs": [],
   "source": [
    "import pandas as pd\n",
    "#데이터 로드\n",
    "x_train = pd.read_csv(\"https://raw.githubusercontent.com/Datamanim/datarepo/main/studentscore/X_train.csv\")\n",
    "y_train = pd.read_csv(\"https://raw.githubusercontent.com/Datamanim/datarepo/main/studentscore/y_train.csv\")\n",
    "x_test= pd.read_csv(\"https://raw.githubusercontent.com/Datamanim/datarepo/main/studentscore/X_test.csv\")"
   ]
  },
  {
   "cell_type": "code",
   "execution_count": null,
   "id": "4fe260e2-3e94-4aa0-989f-47de2a3cf08d",
   "metadata": {},
   "outputs": [],
   "source": [
    "display(x_train.head())\n",
    "display(y_train.head())\n",
    "\n",
    "print(x_train.info())\n",
    "print(x_test.info())"
   ]
  },
  {
   "cell_type": "code",
   "execution_count": null,
   "id": "519e5eb5-756e-42c6-a981-2e7ca81d54cb",
   "metadata": {},
   "outputs": [],
   "source": [
    "# x_train.isna().sum()\n",
    "# x_test.isna().sum()"
   ]
  },
  {
   "cell_type": "code",
   "execution_count": null,
   "id": "61b22440-5b12-483c-8e3d-75c2b2888dfa",
   "metadata": {},
   "outputs": [],
   "source": [
    "x_train_drop = x_train.drop(columns=['StudentID'])\n",
    "x_test_drop = x_test.drop(columns=['StudentID'])\n",
    "y = y_train['G3']"
   ]
  },
  {
   "cell_type": "code",
   "execution_count": null,
   "id": "a727d44e-ac0b-4f73-afb7-6d52cc3e2457",
   "metadata": {},
   "outputs": [],
   "source": [
    "from sklearn.model_selection import train_test_split\n",
    "from sklearn.ensemble import RandomForestRegressor\n",
    "\n",
    "x_train_dum = pd.get_dummies(x_train_drop)\n",
    "x_test_dum = pd.get_dummies(x_test_drop)\n",
    "x_test_dum = x_test_dum[x_train_dum.columns]\n",
    "\n",
    "x_test_dum"
   ]
  },
  {
   "cell_type": "code",
   "execution_count": null,
   "id": "78b4de80-56ee-4edd-b767-fa2cdab4003b",
   "metadata": {},
   "outputs": [],
   "source": [
    "x_train, x_val, y_train, y_val = train_test_split(x_train_dum, y, test_size = 0.3, random_state=22)\n",
    "rf = RandomForestRegressor(random_state=22)\n",
    "rf.fit(x_train, y_train)\n"
   ]
  },
  {
   "cell_type": "code",
   "execution_count": null,
   "id": "33842158-4a0e-4eec-8f8b-c9e8736c4ca1",
   "metadata": {},
   "outputs": [],
   "source": [
    "from sklearn.preprocessing import MinMaxScaler #데이터값을 0~1로 변환\n",
    "from sklearn.metrics import mean_squared_error , mean_absolute_error , mean_absolute_percentage_error ,r2_score\n",
    "\n",
    "pred = rf.predict(x_val)\n",
    "\n",
    "#mse \n",
    "print('validation mse' ,mean_squared_error(y_val,pred))\n",
    "\n",
    "#mae \n",
    "print('validation mae' ,mean_absolute_error(y_val,pred))\n",
    "\n",
    "#mape \n",
    "print('validation mape' ,mean_absolute_percentage_error(y_val,pred))\n",
    "\n",
    "#rmse\n",
    "print('validation rmse' ,(mean_absolute_percentage_error(y_val,pred))**.5)\n",
    "\n",
    "#r2\n",
    "print('validation r2 score' ,r2_score(y_val,pred))"
   ]
  },
  {
   "cell_type": "code",
   "execution_count": null,
   "id": "c5eadb10-5ae3-408c-8039-99fe83f629e9",
   "metadata": {},
   "outputs": [],
   "source": [
    "df = pd.DataFrame({\n",
    "    'StudentID' : x_val.index,\n",
    "    'G3': pred\n",
    "})\n",
    "\n",
    "df.to_csv('result.csv',index=False)"
   ]
  }
 ],
 "metadata": {
  "kernelspec": {
   "display_name": "Python 3 (ipykernel)",
   "language": "python",
   "name": "python3"
  },
  "language_info": {
   "codemirror_mode": {
    "name": "ipython",
    "version": 3
   },
   "file_extension": ".py",
   "mimetype": "text/x-python",
   "name": "python",
   "nbconvert_exporter": "python",
   "pygments_lexer": "ipython3",
   "version": "3.13.0"
  }
 },
 "nbformat": 4,
 "nbformat_minor": 5
}
