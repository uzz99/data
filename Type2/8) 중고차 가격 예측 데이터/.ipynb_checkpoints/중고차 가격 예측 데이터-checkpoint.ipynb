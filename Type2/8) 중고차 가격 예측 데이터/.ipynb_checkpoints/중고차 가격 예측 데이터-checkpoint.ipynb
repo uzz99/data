{
 "cells": [
  {
   "cell_type": "markdown",
   "id": "88de718f-a81c-4e68-8b77-36d61178cd3f",
   "metadata": {},
   "source": [
    "데이터 설명 : 중고차 가격 예측 데이터 (종속변수 :G3)"
   ]
  },
  {
   "cell_type": "code",
   "execution_count": null,
   "id": "7062c55d-1624-4f80-90f3-bae88bdcfb81",
   "metadata": {},
   "outputs": [],
   "source": [
    "import pandas as pd\n",
    "x_train = pd.read_csv(\"https://raw.githubusercontent.com/Datamanim/datarepo/main/carsprice/X_train.csv\")\n",
    "y_train = pd.read_csv(\"https://raw.githubusercontent.com/Datamanim/datarepo/main/carsprice/y_train.csv\")\n",
    "x_test= pd.read_csv(\"https://raw.githubusercontent.com/Datamanim/datarepo/main/carsprice/X_test.csv\")\n"
   ]
  },
  {
   "cell_type": "code",
   "execution_count": null,
   "id": "54415d83-164e-4249-b482-62219f16b725",
   "metadata": {},
   "outputs": [],
   "source": [
    "display(x_train.head())\n",
    "display(y_train.head())\n",
    "\n",
    "print(x_train.info())\n",
    "print(x_test.info())"
   ]
  },
  {
   "cell_type": "code",
   "execution_count": null,
   "id": "373e9511-c154-4600-b6e3-4751997382c0",
   "metadata": {},
   "outputs": [],
   "source": []
  },
  {
   "cell_type": "code",
   "execution_count": null,
   "id": "5c97a199-ba7c-4189-95d8-35dda6f1ef59",
   "metadata": {},
   "outputs": [],
   "source": []
  },
  {
   "cell_type": "code",
   "execution_count": null,
   "id": "c367ac25-8cbe-4c2f-a2d2-ee8dea3584b0",
   "metadata": {},
   "outputs": [],
   "source": []
  },
  {
   "cell_type": "code",
   "execution_count": null,
   "id": "543cb47a-f4be-493d-a630-dc55681db858",
   "metadata": {},
   "outputs": [],
   "source": []
  },
  {
   "cell_type": "code",
   "execution_count": null,
   "id": "32d9bd99-85d3-4af6-bfc0-f44c31637409",
   "metadata": {},
   "outputs": [],
   "source": []
  },
  {
   "cell_type": "code",
   "execution_count": null,
   "id": "fa3b8d7e-d393-414a-9668-afb599afbee6",
   "metadata": {},
   "outputs": [],
   "source": []
  }
 ],
 "metadata": {
  "kernelspec": {
   "display_name": "Python 3 (ipykernel)",
   "language": "python",
   "name": "python3"
  },
  "language_info": {
   "name": ""
  }
 },
 "nbformat": 4,
 "nbformat_minor": 5
}
