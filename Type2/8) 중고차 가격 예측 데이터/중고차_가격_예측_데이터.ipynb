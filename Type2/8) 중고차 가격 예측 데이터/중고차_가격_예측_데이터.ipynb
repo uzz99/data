{
 "cells": [
  {
   "cell_type": "markdown",
   "id": "88de718f-a81c-4e68-8b77-36d61178cd3f",
   "metadata": {
    "id": "88de718f-a81c-4e68-8b77-36d61178cd3f"
   },
   "source": [
    "데이터 설명 : 중고차 가격 예측 데이터 (종속변수 :G3)"
   ]
  },
  {
   "cell_type": "code",
   "execution_count": 1,
   "id": "7062c55d-1624-4f80-90f3-bae88bdcfb81",
   "metadata": {
    "id": "7062c55d-1624-4f80-90f3-bae88bdcfb81"
   },
   "outputs": [],
   "source": [
    "import pandas as pd\n",
    "x_train = pd.read_csv(\"https://raw.githubusercontent.com/Datamanim/datarepo/main/carsprice/X_train.csv\")\n",
    "y_train = pd.read_csv(\"https://raw.githubusercontent.com/Datamanim/datarepo/main/carsprice/y_train.csv\")\n",
    "x_test= pd.read_csv(\"https://raw.githubusercontent.com/Datamanim/datarepo/main/carsprice/X_test.csv\")\n"
   ]
  },
  {
   "cell_type": "code",
   "execution_count": 2,
   "id": "54415d83-164e-4249-b482-62219f16b725",
   "metadata": {
    "colab": {
     "base_uri": "https://localhost:8080/",
     "height": 1000
    },
    "id": "54415d83-164e-4249-b482-62219f16b725",
    "outputId": "0d90f0dc-9ba9-44f9-c963-89aa8dad6ea1"
   },
   "outputs": [
    {
     "data": {
      "text/html": [
       "<div>\n",
       "<style scoped>\n",
       "    .dataframe tbody tr th:only-of-type {\n",
       "        vertical-align: middle;\n",
       "    }\n",
       "\n",
       "    .dataframe tbody tr th {\n",
       "        vertical-align: top;\n",
       "    }\n",
       "\n",
       "    .dataframe thead th {\n",
       "        text-align: right;\n",
       "    }\n",
       "</style>\n",
       "<table border=\"1\" class=\"dataframe\">\n",
       "  <thead>\n",
       "    <tr style=\"text-align: right;\">\n",
       "      <th></th>\n",
       "      <th>carID</th>\n",
       "      <th>brand</th>\n",
       "      <th>model</th>\n",
       "      <th>year</th>\n",
       "      <th>transmission</th>\n",
       "      <th>mileage</th>\n",
       "      <th>fuelType</th>\n",
       "      <th>tax</th>\n",
       "      <th>mpg</th>\n",
       "      <th>engineSize</th>\n",
       "    </tr>\n",
       "  </thead>\n",
       "  <tbody>\n",
       "    <tr>\n",
       "      <th>0</th>\n",
       "      <td>13207</td>\n",
       "      <td>hyundi</td>\n",
       "      <td>Santa Fe</td>\n",
       "      <td>2019</td>\n",
       "      <td>Semi-Auto</td>\n",
       "      <td>4223</td>\n",
       "      <td>Diesel</td>\n",
       "      <td>145.0</td>\n",
       "      <td>39.8</td>\n",
       "      <td>2.2</td>\n",
       "    </tr>\n",
       "    <tr>\n",
       "      <th>1</th>\n",
       "      <td>17314</td>\n",
       "      <td>vauxhall</td>\n",
       "      <td>GTC</td>\n",
       "      <td>2015</td>\n",
       "      <td>Manual</td>\n",
       "      <td>47870</td>\n",
       "      <td>Diesel</td>\n",
       "      <td>125.0</td>\n",
       "      <td>60.1</td>\n",
       "      <td>2.0</td>\n",
       "    </tr>\n",
       "    <tr>\n",
       "      <th>2</th>\n",
       "      <td>12342</td>\n",
       "      <td>audi</td>\n",
       "      <td>RS4</td>\n",
       "      <td>2019</td>\n",
       "      <td>Automatic</td>\n",
       "      <td>5151</td>\n",
       "      <td>Petrol</td>\n",
       "      <td>145.0</td>\n",
       "      <td>29.1</td>\n",
       "      <td>2.9</td>\n",
       "    </tr>\n",
       "    <tr>\n",
       "      <th>3</th>\n",
       "      <td>13426</td>\n",
       "      <td>vw</td>\n",
       "      <td>Scirocco</td>\n",
       "      <td>2016</td>\n",
       "      <td>Automatic</td>\n",
       "      <td>20423</td>\n",
       "      <td>Diesel</td>\n",
       "      <td>30.0</td>\n",
       "      <td>57.6</td>\n",
       "      <td>2.0</td>\n",
       "    </tr>\n",
       "    <tr>\n",
       "      <th>4</th>\n",
       "      <td>16004</td>\n",
       "      <td>skoda</td>\n",
       "      <td>Scala</td>\n",
       "      <td>2020</td>\n",
       "      <td>Semi-Auto</td>\n",
       "      <td>3569</td>\n",
       "      <td>Petrol</td>\n",
       "      <td>145.0</td>\n",
       "      <td>47.1</td>\n",
       "      <td>1.0</td>\n",
       "    </tr>\n",
       "  </tbody>\n",
       "</table>\n",
       "</div>"
      ],
      "text/plain": [
       "   carID     brand      model  year transmission  mileage fuelType    tax  \\\n",
       "0  13207    hyundi   Santa Fe  2019    Semi-Auto     4223   Diesel  145.0   \n",
       "1  17314  vauxhall        GTC  2015       Manual    47870   Diesel  125.0   \n",
       "2  12342      audi        RS4  2019    Automatic     5151   Petrol  145.0   \n",
       "3  13426        vw   Scirocco  2016    Automatic    20423   Diesel   30.0   \n",
       "4  16004     skoda      Scala  2020    Semi-Auto     3569   Petrol  145.0   \n",
       "\n",
       "    mpg  engineSize  \n",
       "0  39.8         2.2  \n",
       "1  60.1         2.0  \n",
       "2  29.1         2.9  \n",
       "3  57.6         2.0  \n",
       "4  47.1         1.0  "
      ]
     },
     "metadata": {},
     "output_type": "display_data"
    },
    {
     "data": {
      "text/html": [
       "<div>\n",
       "<style scoped>\n",
       "    .dataframe tbody tr th:only-of-type {\n",
       "        vertical-align: middle;\n",
       "    }\n",
       "\n",
       "    .dataframe tbody tr th {\n",
       "        vertical-align: top;\n",
       "    }\n",
       "\n",
       "    .dataframe thead th {\n",
       "        text-align: right;\n",
       "    }\n",
       "</style>\n",
       "<table border=\"1\" class=\"dataframe\">\n",
       "  <thead>\n",
       "    <tr style=\"text-align: right;\">\n",
       "      <th></th>\n",
       "      <th>carID</th>\n",
       "      <th>price</th>\n",
       "    </tr>\n",
       "  </thead>\n",
       "  <tbody>\n",
       "    <tr>\n",
       "      <th>0</th>\n",
       "      <td>13207</td>\n",
       "      <td>31995</td>\n",
       "    </tr>\n",
       "    <tr>\n",
       "      <th>1</th>\n",
       "      <td>17314</td>\n",
       "      <td>7700</td>\n",
       "    </tr>\n",
       "    <tr>\n",
       "      <th>2</th>\n",
       "      <td>12342</td>\n",
       "      <td>58990</td>\n",
       "    </tr>\n",
       "    <tr>\n",
       "      <th>3</th>\n",
       "      <td>13426</td>\n",
       "      <td>12999</td>\n",
       "    </tr>\n",
       "    <tr>\n",
       "      <th>4</th>\n",
       "      <td>16004</td>\n",
       "      <td>16990</td>\n",
       "    </tr>\n",
       "  </tbody>\n",
       "</table>\n",
       "</div>"
      ],
      "text/plain": [
       "   carID  price\n",
       "0  13207  31995\n",
       "1  17314   7700\n",
       "2  12342  58990\n",
       "3  13426  12999\n",
       "4  16004  16990"
      ]
     },
     "metadata": {},
     "output_type": "display_data"
    },
    {
     "name": "stdout",
     "output_type": "stream",
     "text": [
      "<class 'pandas.core.frame.DataFrame'>\n",
      "RangeIndex: 4960 entries, 0 to 4959\n",
      "Data columns (total 10 columns):\n",
      " #   Column        Non-Null Count  Dtype  \n",
      "---  ------        --------------  -----  \n",
      " 0   carID         4960 non-null   int64  \n",
      " 1   brand         4960 non-null   object \n",
      " 2   model         4960 non-null   object \n",
      " 3   year          4960 non-null   int64  \n",
      " 4   transmission  4960 non-null   object \n",
      " 5   mileage       4960 non-null   int64  \n",
      " 6   fuelType      4960 non-null   object \n",
      " 7   tax           4960 non-null   float64\n",
      " 8   mpg           4960 non-null   float64\n",
      " 9   engineSize    4960 non-null   float64\n",
      "dtypes: float64(3), int64(3), object(4)\n",
      "memory usage: 387.6+ KB\n",
      "None\n",
      "<class 'pandas.core.frame.DataFrame'>\n",
      "RangeIndex: 2672 entries, 0 to 2671\n",
      "Data columns (total 10 columns):\n",
      " #   Column        Non-Null Count  Dtype  \n",
      "---  ------        --------------  -----  \n",
      " 0   carID         2672 non-null   int64  \n",
      " 1   brand         2672 non-null   object \n",
      " 2   model         2672 non-null   object \n",
      " 3   year          2672 non-null   int64  \n",
      " 4   transmission  2672 non-null   object \n",
      " 5   mileage       2672 non-null   int64  \n",
      " 6   fuelType      2672 non-null   object \n",
      " 7   tax           2672 non-null   float64\n",
      " 8   mpg           2672 non-null   float64\n",
      " 9   engineSize    2672 non-null   float64\n",
      "dtypes: float64(3), int64(3), object(4)\n",
      "memory usage: 208.9+ KB\n",
      "None\n"
     ]
    }
   ],
   "source": [
    "display(x_train.head())\n",
    "display(y_train.head())\n",
    "\n",
    "print(x_train.info())\n",
    "print(x_test.info())"
   ]
  },
  {
   "cell_type": "code",
   "execution_count": 3,
   "id": "373e9511-c154-4600-b6e3-4751997382c0",
   "metadata": {
    "id": "373e9511-c154-4600-b6e3-4751997382c0"
   },
   "outputs": [],
   "source": [
    "# print(x_train.isna().sum())\n",
    "# print(x_test.isna().sum())\n",
    "# print(x_train.nunique())"
   ]
  },
  {
   "cell_type": "code",
   "execution_count": 4,
   "id": "rzu8PZZYqkbI",
   "metadata": {
    "id": "rzu8PZZYqkbI"
   },
   "outputs": [],
   "source": [
    "x_train_drop = x_train.drop(columns=['carID'])\n",
    "x_test_drop = x_test.drop(columns=['carID'])\n",
    "y = y_train['price']\n",
    "\n",
    "x_train_dum = pd.get_dummies(x_train_drop)\n",
    "# x_test_dum = x_test_dum[x_train_dum.columns]\n",
    "# 현재 x_train에는 있으나 test에 없는 칼럼 존재 -> x_train에서 해당 칼럼은 0으로 채우고, 칼럼 지정\n",
    "\n",
    "x_test_dum = pd.get_dummies(x_test_drop)\n",
    "x_test_dum = x_test_dum.reindex(columns=x_train_dum.columns, fill_value=0)"
   ]
  },
  {
   "cell_type": "code",
   "execution_count": 5,
   "id": "5c97a199-ba7c-4189-95d8-35dda6f1ef59",
   "metadata": {
    "id": "5c97a199-ba7c-4189-95d8-35dda6f1ef59"
   },
   "outputs": [],
   "source": [
    "from sklearn.model_selection import train_test_split\n",
    "from sklearn.ensemble import RandomForestRegressor\n",
    "\n",
    "x_train, x_val, y_train, y_val = train_test_split(x_train_dum, y, test_size=0.3, random_state=22)\n",
    "rf = RandomForestRegressor(random_state=12)\n",
    "rf.fit(x_train, y_train)\n",
    "\n",
    "predict= rf.predict(x_train)"
   ]
  },
  {
   "cell_type": "code",
   "execution_count": 6,
   "id": "c367ac25-8cbe-4c2f-a2d2-ee8dea3584b0",
   "metadata": {
    "colab": {
     "base_uri": "https://localhost:8080/"
    },
    "id": "c367ac25-8cbe-4c2f-a2d2-ee8dea3584b0",
    "outputId": "d887bb68-ef45-4c98-9f29-aa2e17fb4a55"
   },
   "outputs": [
    {
     "name": "stdout",
     "output_type": "stream",
     "text": [
      "mse 1994278.5334263397\n",
      "mae 761.0074961200474\n",
      "mape 0.03720189532996269\n",
      "rmse 0.1928779285713186\n",
      "r2 0.9962601335626786\n"
     ]
    }
   ],
   "source": [
    "from sklearn.metrics import mean_squared_error, mean_absolute_error, mean_absolute_percentage_error, r2_score\n",
    "\n",
    "print('mse', mean_squared_error(y_train, predict))\n",
    "print('mae', mean_absolute_error(y_train, predict))\n",
    "print('mape', mean_absolute_percentage_error(y_train, predict))\n",
    "print('rmse', mean_absolute_percentage_error(y_train, predict)**.5)\n",
    "print('r2',r2_score(y_train, predict)**.5)"
   ]
  },
  {
   "cell_type": "code",
   "execution_count": 7,
   "id": "543cb47a-f4be-493d-a630-dc55681db858",
   "metadata": {
    "id": "543cb47a-f4be-493d-a630-dc55681db858"
   },
   "outputs": [],
   "source": [
    "predict_test = rf.predict(x_test_dum)\n",
    "\n",
    "pd.DataFrame({\n",
    "    'carID': x_test['carID'],\n",
    "    'price': predict_test\n",
    "}).to_csv('result.csv',index=False)"
   ]
  },
  {
   "cell_type": "code",
   "execution_count": null,
   "id": "32d9bd99-85d3-4af6-bfc0-f44c31637409",
   "metadata": {
    "id": "32d9bd99-85d3-4af6-bfc0-f44c31637409"
   },
   "outputs": [],
   "source": []
  },
  {
   "cell_type": "code",
   "execution_count": null,
   "id": "fa3b8d7e-d393-414a-9668-afb599afbee6",
   "metadata": {
    "id": "fa3b8d7e-d393-414a-9668-afb599afbee6"
   },
   "outputs": [],
   "source": []
  }
 ],
 "metadata": {
  "colab": {
   "provenance": []
  },
  "kernelspec": {
   "display_name": "Python 3 (ipykernel)",
   "language": "python",
   "name": "python3"
  },
  "language_info": {
   "codemirror_mode": {
    "name": "ipython",
    "version": 3
   },
   "file_extension": ".py",
   "mimetype": "text/x-python",
   "name": "python",
   "nbconvert_exporter": "python",
   "pygments_lexer": "ipython3",
   "version": "3.13.0"
  }
 },
 "nbformat": 4,
 "nbformat_minor": 5
}
